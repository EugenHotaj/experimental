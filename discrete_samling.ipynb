{
  "nbformat": 4,
  "nbformat_minor": 0,
  "metadata": {
    "colab": {
      "provenance": [],
      "authorship_tag": "ABX9TyNOUs629DtJ4RAENgI9PDxR",
      "include_colab_link": true
    },
    "kernelspec": {
      "name": "python3",
      "display_name": "Python 3"
    },
    "language_info": {
      "name": "python"
    }
  },
  "cells": [
    {
      "cell_type": "markdown",
      "metadata": {
        "id": "view-in-github",
        "colab_type": "text"
      },
      "source": [
        "<a href=\"https://colab.research.google.com/github/EugenHotaj/experimental/blob/master/discrete_samling.ipynb\" target=\"_parent\"><img src=\"https://colab.research.google.com/assets/colab-badge.svg\" alt=\"Open In Colab\"/></a>"
      ]
    },
    {
      "cell_type": "code",
      "execution_count": 180,
      "metadata": {
        "id": "JGtqRP6gOg3S"
      },
      "outputs": [],
      "source": [
        "from typing import List\n",
        "import numpy as np\n",
        "import matplotlib.pyplot as plt"
      ]
    },
    {
      "cell_type": "code",
      "source": [
        "def sample(cdf: List[float]) -> int:\n",
        "    u = np.random.uniform()\n",
        "    idx = 0\n",
        "    while cdf[idx] < u:\n",
        "        idx += 1\n",
        "    return idx"
      ],
      "metadata": {
        "id": "bPoMffdfXJ8m"
      },
      "execution_count": 181,
      "outputs": []
    },
    {
      "cell_type": "code",
      "source": [
        "pmf = [0.05, 0.1, 0.2, 0.3, 0.2, 0.1, 0.05]\n",
        "cdf = np.cumsum(pmf)"
      ],
      "metadata": {
        "id": "bC-8Qnj6YdwA"
      },
      "execution_count": 182,
      "outputs": []
    },
    {
      "cell_type": "code",
      "source": [
        "Xs = []\n",
        "for i in range(100000):\n",
        "    x = sample(cdf)\n",
        "    Xs.append(x)\n",
        "plt.hist(Xs, bins=len(cdf))"
      ],
      "metadata": {
        "colab": {
          "base_uri": "https://localhost:8080/",
          "height": 336
        },
        "id": "t-6ygQCBXB6u",
        "outputId": "69f985aa-c5f1-45c5-a5f7-53d35ddf441c"
      },
      "execution_count": 183,
      "outputs": [
        {
          "output_type": "execute_result",
          "data": {
            "text/plain": [
              "(array([ 4868.,  9972., 19976., 30094., 20049.,  9951.,  5090.]),\n",
              " array([0.        , 0.85714286, 1.71428571, 2.57142857, 3.42857143,\n",
              "        4.28571429, 5.14285714, 6.        ]),\n",
              " <a list of 7 Patch objects>)"
            ]
          },
          "metadata": {},
          "execution_count": 183
        },
        {
          "output_type": "display_data",
          "data": {
            "text/plain": [
              "<Figure size 432x288 with 1 Axes>"
            ],
            "image/png": "[encoded data removed]"
          },
          "metadata": {
            "needs_background": "light"
          }
        }
      ]
    },
    {
      "cell_type": "code",
      "source": [
        "from bisect import bisect\n",
        "\n",
        "def sample_binary_search(cdf: List[float]) -> int:\n",
        "    u = np.random.uniform()\n",
        "    return bisect(cdf, u) "
      ],
      "metadata": {
        "id": "24wc3GGHX5MT"
      },
      "execution_count": 184,
      "outputs": []
    },
    {
      "cell_type": "code",
      "source": [
        "Xs = []\n",
        "for i in range(100000):\n",
        "    x = sample_binary_search(cdf)\n",
        "    Xs.append(x)\n",
        "plt.figure(figsize=(6, 4))\n",
        "plt.hist(Xs, bins=len(cdf))"
      ],
      "metadata": {
        "colab": {
          "base_uri": "https://localhost:8080/",
          "height": 336
        },
        "id": "NK1tPgsieD3O",
        "outputId": "4f460cbf-f9ad-451f-bc81-c90c086b2877"
      },
      "execution_count": 185,
      "outputs": [
        {
          "output_type": "execute_result",
          "data": {
            "text/plain": [
              "(array([ 4953.,  9955., 19977., 29939., 20036., 10070.,  5070.]),\n",
              " array([0.        , 0.85714286, 1.71428571, 2.57142857, 3.42857143,\n",
              "        4.28571429, 5.14285714, 6.        ]),\n",
              " <a list of 7 Patch objects>)"
            ]
          },
          "metadata": {},
          "execution_count": 185
        },
        {
          "output_type": "display_data",
          "data": {
            "text/plain": [
              "<Figure size 432x288 with 1 Axes>"
            ],
            "image/png": "[encoded data removed]"
          },
          "metadata": {
            "needs_background": "light"
          }
        }
      ]
    },
    {
      "cell_type": "code",
      "source": [
        "import copy\n",
        "def construct_table(pmf):\n",
        "    pmf, mean, table = copy.copy(pmf), np.mean(pmf), []\n",
        "    for i in range(len(pmf)):\n",
        "        idxs = np.argsort(pmf)\n",
        "        i, j = idxs[i], idxs[-1]\n",
        "        tau = pmf[i] / mean\n",
        "        table.append((tau, i, j))\n",
        "        pmf[j] -= mean - pmf[i] \n",
        "        pmf[i] = 0  # Set to 0 to maintain correct sorting.\n",
        "    return table \n",
        "\n",
        "def sample_alias(alias_table) -> int:\n",
        "    N = len(alias_table)\n",
        "    u_1, u_2 = np.random.uniform(), np.random.uniform()\n",
        "    tau, i, j= alias_table[int(u_1 * N)]\n",
        "    return i if u_2 < tau else j\n"
      ],
      "metadata": {
        "id": "c-RR-NEtnjnr"
      },
      "execution_count": 186,
      "outputs": []
    },
    {
      "cell_type": "code",
      "source": [
        "table = construct_table(pmf)"
      ],
      "metadata": {
        "id": "e7aa7fRJF3ln"
      },
      "execution_count": 187,
      "outputs": []
    },
    {
      "cell_type": "code",
      "source": [
        "Xs = []\n",
        "for i in range(100000):\n",
        "    x = sample_alias(table)\n",
        "    Xs.append(x)\n",
        "plt.figure(figsize=(6, 4))\n",
        "plt.hist(Xs, bins=len(table))"
      ],
      "metadata": {
        "colab": {
          "base_uri": "https://localhost:8080/",
          "height": 336
        },
        "id": "RJBDU1oNrMVw",
        "outputId": "1d9066e5-136a-4f84-cd2c-9270afa5d917"
      },
      "execution_count": 188,
      "outputs": [
        {
          "output_type": "execute_result",
          "data": {
            "text/plain": [
              "(array([ 4960., 10064., 19914., 29856., 20065., 10029.,  5112.]),\n",
              " array([0.        , 0.85714286, 1.71428571, 2.57142857, 3.42857143,\n",
              "        4.28571429, 5.14285714, 6.        ]),\n",
              " <a list of 7 Patch objects>)"
            ]
          },
          "metadata": {},
          "execution_count": 188
        },
        {
          "output_type": "display_data",
          "data": {
            "text/plain": [
              "<Figure size 432x288 with 1 Axes>"
            ],
            "image/png": "[encoded data removed]"
          },
          "metadata": {
            "needs_background": "light"
          }
        }
      ]
    }
  ]
}