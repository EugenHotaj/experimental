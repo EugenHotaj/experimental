{
 "cells": [
  {
   "cell_type": "code",
   "execution_count": 10,
   "metadata": {
    "collapsed": false
   },
   "outputs": [
    {
     "name": "stdout",
     "output_type": "stream",
     "text": [
      "b'{\"datatable\":{\"data\":[[\"2014-01-02\",\"IWM\",244900000.0,115.4367,0.0],[\"2014-01-02\",\"SPY\",955782116.0,182.935913,1531700525.6],[\"2014-01-03\",\"IWM\",234550000.0,114.1586,-1194769845.0],[\"2014-01-03\",\"SPY\",952482116.0,182.879181,-603688512.9],[\"2014-01-06\",\"IWM\",233800000.0,114.6915,-85618950.0],[\"2014-01-06\",\"SPY\",954182116.0,182.422859,310894607.7],[\"2014-01-07\",\"IWM\",226550000.0,113.8059,-831513375.0],[\"2014-01-07\",\"SPY\",947882116.0,183.533158,-1149264011.7],[\"2014-01-08\",\"IWM\",228700000.0,114.8463,244682685.0],[\"2014-01-08\",\"SPY\",944682116.0,183.548301,-587306105.6],[\"2014-01-09\",\"IWM\",221500000.0,114.8353,-826893360.0],[\"2014-01-09\",\"SPY\",943932116.0,183.611559,-137661225.75],[\"2014-01-10\",\"IWM\",221600000.0,114.927,11483530.0],[\"2014-01-10\",\"SPY\",940882116.0,184.034274,-560015254.95],[\"2014-01-13\",\"IWM\",218600000.0,115.5398,-344781000.0],[\"2014-01-13\",\"SPY\",943432116.0,181.74065,469287398.7],[\"2014-01-14\",\"IWM\",216750000.0,113.9159,-213748630.0],[\"2014-01-14\",\"SPY\",936482116.0,183.705563,-1263097517.5],[\"2014-01-15\",\"IWM\",218250000.0,115.4396,170873850.0],[\"2014-01-15\",\"SPY\",936532116.0,184.657834,9185278.15],[\"2014-01-16\",\"IWM\",224050000.0,116.2312,669549680.0],[\"2014-01-16\",\"SPY\",933632116.0,184.413998,-535507718.6],[\"2014-01-17\",\"IWM\",222850000.0,116.4089,-139477440.0],[\"2014-01-17\",\"SPY\",927732116.0,183.697407,-1088042588.2]],\"columns\":[{\"name\":\"date\",\"type\":\"Date\"},{\"name\":\"ticker\",\"type\":\"String\"},{\"name\":\"shares_outstanding\",\"type\":\"BigDecimal(36,14)\"},{\"name\":\"nav\",\"type\":\"BigDecimal(36,14)\"},{\"name\":\"flow_daily\",\"type\":\"BigDecimal(36,14)\"}]},\"meta\":{\"next_cursor_id\":null}}'\n"
     ]
    }
   ],
   "source": [
    "import urllib.request\n",
    "import json\n",
    "\n",
    "API_KEY = 'hou66HS6ZJD6VVSd-ZM7'\n",
    "BASE_URL = 'https://www.quandl.com/api/v3/datatables'\n",
    "TABLE = 'ETFG/FUND.json'\n",
    "TICKERS = 'aapl'\n",
    "\n",
    "respStr = urllib.request.urlopen(\n",
    "    '{}/{}?ticker={}&api_key='.format())\n",
    "    .read()\n",
    "resp = json.loads(respStr)\n",
    "print(resp)\n",
    "\n"
   ]
  },
  {
   "cell_type": "code",
   "execution_count": null,
   "metadata": {
    "collapsed": true
   },
   "outputs": [],
   "source": []
  }
 ],
 "metadata": {
  "anaconda-cloud": {},
  "kernelspec": {
   "display_name": "Python [Root]",
   "language": "python",
   "name": "Python [Root]"
  },
  "language_info": {
   "codemirror_mode": {
    "name": "ipython",
    "version": 3
   },
   "file_extension": ".py",
   "mimetype": "text/x-python",
   "name": "python",
   "nbconvert_exporter": "python",
   "pygments_lexer": "ipython3",
   "version": "3.5.2"
  }
 },
 "nbformat": 4,
 "nbformat_minor": 0
}
