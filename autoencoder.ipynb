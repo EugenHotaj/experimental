{
  "nbformat": 4,
  "nbformat_minor": 0,
  "metadata": {
    "colab": {
      "name": "Untitled3.ipynb",
      "version": "0.3.2",
      "provenance": [],
      "include_colab_link": true
    },
    "kernelspec": {
      "name": "python3",
      "display_name": "Python 3"
    }
  },
  "cells": [
    {
      "cell_type": "markdown",
      "metadata": {
        "id": "view-in-github",
        "colab_type": "text"
      },
      "source": [
        "<a href=\"https://colab.research.google.com/github/EugenHotaj/experimental/blob/master/autoencoder.ipynb\" target=\"_parent\"><img src=\"https://colab.research.google.com/assets/colab-badge.svg\" alt=\"Open In Colab\"/></a>"
      ]
    },
    {
      "metadata": {
        "id": "OwBnc85mA2-E",
        "colab_type": "code",
        "colab": {}
      },
      "cell_type": "code",
      "source": [
        "import matplotlib.pyplot as plt\n",
        "import tensorflow as tf\n",
        "from tensorflow.keras.datasets import mnist \n",
        "from tensorflow.keras import models\n",
        "from tensorflow.keras import layers"
      ],
      "execution_count": 0,
      "outputs": []
    },
    {
      "metadata": {
        "id": "dLJMLrE7Rb3a",
        "colab_type": "code",
        "colab": {
          "base_uri": "https://localhost:8080/",
          "height": 221
        },
        "outputId": "7960977a-bd47-49fd-8b0f-64e5e6ae28dc"
      },
      "cell_type": "code",
      "source": [
        "(x_train, _), (x_test, _) = mnist.load_data()\n",
        "x_train =  x_train /255.0 \n",
        "x_test = x_test / 255.0\n",
        "\n",
        "flat_x_train = x_train.reshape([-1, 784])\n",
        "flat_x_test = x_test.reshape([-1, 784])\n",
        "\n",
        "model = models.Sequential([\n",
        "  layers.Dense(128, input_shape=(784,), activation='relu'),\n",
        "  layers.Dense(784, activation='linear'),\n",
        "])\n",
        "model.compile(optimizer='adam', loss='mse')\n",
        "\n",
        "model.fit(flat_x_train, flat_x_train, batch_size=64, epochs=5)"
      ],
      "execution_count": 0,
      "outputs": [
        {
          "output_type": "stream",
          "text": [
            "Downloading data from https://storage.googleapis.com/tensorflow/tf-keras-datasets/mnist.npz\n",
            "11493376/11490434 [==============================] - 0s 0us/step\n",
            "Epoch 1/5\n",
            "60000/60000 [==============================] - 8s 138us/step - loss: 0.0184\n",
            "Epoch 2/5\n",
            "60000/60000 [==============================] - 8s 127us/step - loss: 0.0080\n",
            "Epoch 3/5\n",
            "60000/60000 [==============================] - 8s 126us/step - loss: 0.0071\n",
            "Epoch 4/5\n",
            "60000/60000 [==============================] - 7s 113us/step - loss: 0.0068\n",
            "Epoch 5/5\n",
            "57280/60000 [===========================>..] - ETA: 0s - loss: 0.0064"
          ],
          "name": "stdout"
        }
      ]
    },
    {
      "metadata": {
        "id": "xk6d0ECBRliv",
        "colab_type": "code",
        "colab": {}
      },
      "cell_type": "code",
      "source": [
        "def random_example():\n",
        "  example = x_test[np.random.randint(10000)]\n",
        "  reconstruction = example.reshape((1,784))\n",
        "  reconstruction = model.predict(reconstruction)\n",
        "  reconstruction = reconstruction.reshape((28, 28))\n",
        "     \n",
        "  fig = plt.figure(figsize=(8, 8))\n",
        "  s = fig.add_subplot(121)\n",
        "  s.grid(False)\n",
        "  plt.imshow(example, cmap='gray')\n",
        "  s = fig.add_subplot(122)\n",
        "  s.grid(False)\n",
        "  plt.imshow(reconstruction, cmap='gray')"
      ],
      "execution_count": 0,
      "outputs": []
    },
    {
      "metadata": {
        "id": "CFkFu7vZRszx",
        "colab_type": "code",
        "colab": {}
      },
      "cell_type": "code",
      "source": [
        "random_example()"
      ],
      "execution_count": 0,
      "outputs": []
    }
  ]
}