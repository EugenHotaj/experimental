{
  "nbformat": 4,
  "nbformat_minor": 0,
  "metadata": {
    "colab": {
      "name": "Untitled3.ipynb",
      "version": "0.3.2",
      "provenance": [],
      "include_colab_link": true
    },
    "kernelspec": {
      "name": "python3",
      "display_name": "Python 3"
    }
  },
  "cells": [
    {
      "cell_type": "markdown",
      "metadata": {
        "id": "view-in-github",
        "colab_type": "text"
      },
      "source": [
        "<a href=\"https://colab.research.google.com/github/EugenHotaj/experimental/blob/master/autoencoder.ipynb\" target=\"_parent\"><img src=\"https://colab.research.google.com/assets/colab-badge.svg\" alt=\"Open In Colab\"/></a>"
      ]
    },
    {
      "metadata": {
        "id": "OwBnc85mA2-E",
        "colab_type": "code",
        "colab": {}
      },
      "cell_type": "code",
      "source": [
        "import matplotlib.pyplot as plt\n",
        "import numpy as np\n",
        "import tensorflow as tf\n",
        "from tensorflow.keras.datasets import mnist \n",
        "from tensorflow.keras import models\n",
        "from tensorflow.keras import layers"
      ],
      "execution_count": 0,
      "outputs": []
    },
    {
      "metadata": {
        "id": "dLJMLrE7Rb3a",
        "colab_type": "code",
        "colab": {
          "base_uri": "https://localhost:8080/",
          "height": 204
        },
        "outputId": "4152a357-434a-4c69-f4a2-f4975920a10c"
      },
      "cell_type": "code",
      "source": [
        "(x_train, _), (x_test, _) = mnist.load_data()\n",
        "x_train =  x_train /255.0 \n",
        "x_test = x_test / 255.0\n",
        "\n",
        "flat_x_train = x_train.reshape([-1, 784])\n",
        "flat_x_test = x_test.reshape([-1, 784])\n",
        "\n",
        "model = models.Sequential([\n",
        "  layers.Dense(128, input_shape=(784,), activation='relu'),\n",
        "  layers.Dense(784, activation='linear'),\n",
        "])\n",
        "model.compile(optimizer='adam', loss='mse')\n",
        "\n",
        "model.fit(flat_x_train, flat_x_train, batch_size=64, epochs=5)"
      ],
      "execution_count": 2,
      "outputs": [
        {
          "output_type": "stream",
          "text": [
            "Epoch 1/5\n",
            "60000/60000 [==============================] - 9s 150us/step - loss: 0.0193\n",
            "Epoch 2/5\n",
            "60000/60000 [==============================] - 8s 132us/step - loss: 0.0084\n",
            "Epoch 3/5\n",
            "60000/60000 [==============================] - 8s 129us/step - loss: 0.0074\n",
            "Epoch 4/5\n",
            "60000/60000 [==============================] - 8s 131us/step - loss: 0.0070\n",
            "Epoch 5/5\n",
            "60000/60000 [==============================] - 8s 129us/step - loss: 0.0067\n"
          ],
          "name": "stdout"
        },
        {
          "output_type": "execute_result",
          "data": {
            "text/plain": [
              "<tensorflow.python.keras.callbacks.History at 0x7f5f00dd63c8>"
            ]
          },
          "metadata": {
            "tags": []
          },
          "execution_count": 2
        }
      ]
    },
    {
      "metadata": {
        "id": "xk6d0ECBRliv",
        "colab_type": "code",
        "colab": {}
      },
      "cell_type": "code",
      "source": [
        "def random_example():\n",
        "  example = x_test[np.random.randint(10000)]\n",
        "  reconstruction = example.reshape((1,784))\n",
        "  reconstruction = model.predict(reconstruction)\n",
        "  reconstruction = reconstruction.reshape((28, 28))\n",
        "     \n",
        "  fig = plt.figure(figsize=(8, 8))\n",
        "  s = fig.add_subplot(121)\n",
        "  s.grid(False)\n",
        "  plt.imshow(example, cmap='gray')\n",
        "  s = fig.add_subplot(122)\n",
        "  s.grid(False)\n",
        "  plt.imshow(reconstruction, cmap='gray')"
      ],
      "execution_count": 0,
      "outputs": []
    },
    {
      "metadata": {
        "id": "CFkFu7vZRszx",
        "colab_type": "code",
        "colab": {
          "base_uri": "https://localhost:8080/",
          "height": 254
        },
        "outputId": "9123ace4-c13b-4401-b633-7b91623c9b0d"
      },
      "cell_type": "code",
      "source": [
        "random_example()"
      ],
      "execution_count": 5,
      "outputs": [
        {
          "output_type": "display_data",
          "data": {
            "image/png": "[encoded data removed]",
            "text/plain": [
              "<Figure size 576x576 with 2 Axes>"
            ]
          },
          "metadata": {
            "tags": []
          }
        }
      ]
    }
  ]
}